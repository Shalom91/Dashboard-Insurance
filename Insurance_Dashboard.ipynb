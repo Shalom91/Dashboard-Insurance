{
 "cells": [
  {
   "cell_type": "code",
   "execution_count": 1,
   "metadata": {
    "extensions": {
     "jupyter_dashboards": {
      "version": 1,
      "views": {
       "grid_default": {},
       "report_default": {
        "hidden": true
       }
      }
     }
    }
   },
   "outputs": [],
   "source": [
    "# import modules\n",
    "import pandas as pd\n",
    "import matplotlib.pyplot as plt\n",
    "import ipywidgets as widgets\n",
    "from IPython.display import display, HTML\n",
    "import seaborn as sns\n",
    "from ipywidgets import interact\n",
    "%load_ext autoreload\n",
    "%autoreload 2\n",
    "import ipypivot as pt\n",
    "\n",
    "%matplotlib inline"
   ]
  },
  {
   "cell_type": "code",
   "execution_count": 2,
   "metadata": {
    "extensions": {
     "jupyter_dashboards": {
      "version": 1,
      "views": {
       "grid_default": {},
       "report_default": {
        "hidden": false
       }
      }
     }
    }
   },
   "outputs": [
    {
     "data": {
      "text/html": [
       "<strong><em><font size=\"6\" color=\"crimson\" face=\"arial\">Insurance Data Analysis Dashboard</font></em></strong>"
      ],
      "text/plain": [
       "<IPython.core.display.HTML object>"
      ]
     },
     "metadata": {},
     "output_type": "display_data"
    }
   ],
   "source": [
    "# dashboard label\n",
    "display(HTML(\"\"\"<strong><em><font size=\"6\" color=\"crimson\" face=\"arial\">Insurance Data Analysis Dashboard</font></em></strong>\"\"\"))"
   ]
  },
  {
   "cell_type": "code",
   "execution_count": 3,
   "metadata": {
    "extensions": {
     "jupyter_dashboards": {
      "version": 1,
      "views": {
       "grid_default": {},
       "report_default": {
        "hidden": false
       }
      }
     }
    }
   },
   "outputs": [],
   "source": [
    "# load dataset\n",
    "df = pd.read_csv('insurance.csv')\n",
    "\n",
    "# explore dataset\n",
    "#df.info()"
   ]
  },
  {
   "cell_type": "code",
   "execution_count": 4,
   "metadata": {
    "extensions": {
     "jupyter_dashboards": {
      "version": 1,
      "views": {
       "grid_default": {},
       "report_default": {
        "hidden": true
       }
      }
     }
    }
   },
   "outputs": [],
   "source": [
    "# filter data by charges\n",
    "# ALL will allow the user to remove the filter\n",
    "ALL = 'ALL'\n",
    "\n",
    "def unique_sorted_values_plus_ALL(array):\n",
    "    \"\"\"\n",
    "    Will allow the user to select uninque value\n",
    "    when filtering the data or seel all the data\n",
    "    \"\"\"\n",
    "    unique = array.unique().tolist()\n",
    "    unique.sort()\n",
    "    unique.insert(0, ALL)\n",
    "    return unique\n"
   ]
  },
  {
   "cell_type": "code",
   "execution_count": 5,
   "metadata": {
    "extensions": {
     "jupyter_dashboards": {
      "version": 1,
      "views": {
       "grid_default": {},
       "report_default": {
        "hidden": false
       }
      }
     }
    }
   },
   "outputs": [
    {
     "data": {
      "application/vnd.jupyter.widget-view+json": {
       "model_id": "cf032d3a450047e4b42ec0c0bef250f0",
       "version_major": 2,
       "version_minor": 0
      },
      "text/plain": [
       "Dropdown(description='BMI', options=('ALL', 15.96, 16.815, 17.195, 17.29, 17.385, 17.4, 17.48, 17.67, 17.765, …"
      ]
     },
     "metadata": {},
     "output_type": "display_data"
    }
   ],
   "source": [
    "# create dropdowns to filter data frame by selected value\n",
    "dropdown_bmi = widgets.Dropdown(options = unique_sorted_values_plus_ALL(df.bmi), description='BMI')\n",
    "\n",
    "# capture widget out\n",
    "output_bmi = widgets.Output()\n",
    "plot_output = widgets.Output()\n",
    "\n",
    "\n",
    "def dropdown_bmi_event(change):\n",
    "    \"\"\"Will allow user to access info\n",
    "    based on whether the selection is ALL or\n",
    "    unique value and display graphs in data viz tab\"\"\"\n",
    "    plot_output.clear_output()\n",
    "    output_bmi.clear_output() #clears the previous output on each iteration\n",
    "    with output_bmi:\n",
    "        if (change.new == ALL):\n",
    "            display(df)\n",
    "        else:\n",
    "            display(df[df.bmi == change.new])\n",
    "\n",
    "    with plot_output:\n",
    "        @interact\n",
    "        def bar_plots():\n",
    "            sns.set()\n",
    "    \n",
    "            plt.subplots(figsize=(15,10))\n",
    "            plt.subplot(221)\n",
    "            bar_sex = sns.barplot(x=\"sex\", y=\"charges\", data=df,\n",
    "                 order=[\"male\", \"female\"])\n",
    "    \n",
    "            plt.subplot(222)\n",
    "            bar_region = sns.barplot(data=df, x=\"region\", y=\"charges\", \n",
    "   \n",
    "                             order=[\"southeast\", \"southwest\", \"northeast\", \"northwest\"])\n",
    "            plt.subplot(223)\n",
    "            bar_smoker = sns.barplot(data=df, x=\"smoker\", y=\"charges\", \n",
    "                     order=[\"yes\", \"no\"])\n",
    "    \n",
    "            plt.subplot(224)\n",
    "            scatter_bmi = sns.scatterplot(data=df, x=\"bmi\", y=\"charges\")\n",
    "                     \n",
    "# link the dropdown to the observe method which will take the invoked function filter through the data frame\n",
    "dropdown_bmi.observe(dropdown_bmi_event, names='value')\n",
    "\n",
    "display(dropdown_bmi)\n"
   ]
  },
  {
   "cell_type": "code",
   "execution_count": 6,
   "metadata": {
    "extensions": {
     "jupyter_dashboards": {
      "version": 1,
      "views": {
       "grid_default": {},
       "report_default": {
        "hidden": false
       }
      }
     }
    }
   },
   "outputs": [
    {
     "data": {
      "application/vnd.jupyter.widget-view+json": {
       "model_id": "5f3615cdecad47858a57c92df203b3df",
       "version_major": 2,
       "version_minor": 0
      },
      "text/plain": [
       "Tab(children=(Output(), Output()), _titles={'0': 'Dataset Exploration', '1': 'Data Viz'})"
      ]
     },
     "metadata": {},
     "output_type": "display_data"
    }
   ],
   "source": [
    "#display(output_bmi)\n",
    "tab = widgets.Tab([output_bmi, plot_output])\n",
    "tab.set_title(0, 'Dataset Exploration')\n",
    "tab.set_title(1, 'Data Viz')\n",
    "\n",
    "display(tab)"
   ]
  },
  {
   "cell_type": "code",
   "execution_count": 7,
   "metadata": {
    "extensions": {
     "jupyter_dashboards": {
      "version": 1,
      "views": {
       "grid_default": {},
       "report_default": {
        "hidden": false
       }
      }
     }
    }
   },
   "outputs": [
    {
     "data": {
      "application/vnd.jupyter.widget-view+json": {
       "model_id": "0a1a67ac109f4ea583d8b487b6a43f61",
       "version_major": 2,
       "version_minor": 0
      },
      "text/plain": [
       "PivotUIBox(children=(HBox(children=(Button(description='Save', layout=Layout(width='100px'), style=ButtonStyle…"
      ]
     },
     "metadata": {},
     "output_type": "display_data"
    }
   ],
   "source": [
    "def pivot_table():\n",
    "    p = pt.PivotUI(df_data=df)\n",
    "\n",
    "    opts = p.table.options\n",
    "\n",
    "    dic = {\n",
    "        'tpl': '$.pivotUtilities.aggregatorTemplates',\n",
    "        'sortAs': '$.pivotUtilities.sortAs'\n",
    "    }\n",
    "\n",
    "    opts.rows = ['region']\n",
    "    opts.cols = ['sex']\n",
    "\n",
    "    opts.aggregators = {\n",
    "        \"Number of Clients\": 'function() {{ return {tpl}.count()() }}'.format(**dic),\n",
    "        \"Average Age of Clients\": 'function() {{ return {tpl}.average()([\"age\"]) }}'.format(**dic),\n",
    "        \"Total Client Fees\": 'function() {{ return {tpl}.sum()([\"charges\"]) }}'.format(**dic),\n",
    "        \"Average Client Fees\": 'function() {{ return {tpl}.average()([\"charges\"]) }}'.format(**dic),\n",
    "        \"Average Client BMIs\": 'function() {{ return {tpl}.average()([\"bmi\"]) }}'.format(**dic)\n",
    "\n",
    "\n",
    "\n",
    "    }\n",
    "    opts.sorters = {\n",
    "        'age': 'function(a,b){return b-a;}', # sort backwards\n",
    "        'region': \"\"\"{sortAs}([\"southwest\", \"southeast\",\n",
    "                                \"northwest\", \"northeast\"])\"\"\".format(**dic)\n",
    "    }\n",
    "    return p\n",
    "\n",
    "pivot_table()"
   ]
  }
 ],
 "metadata": {
  "extensions": {
   "jupyter_dashboards": {
    "activeView": "report_default",
    "version": 1,
    "views": {
     "grid_default": {
      "cellMargin": 10,
      "defaultCellHeight": 20,
      "maxColumns": 12,
      "name": "grid",
      "type": "grid"
     },
     "report_default": {
      "name": "report",
      "type": "report"
     }
    }
   }
  },
  "kernelspec": {
   "display_name": "Python 3",
   "language": "python",
   "name": "python3"
  },
  "language_info": {
   "codemirror_mode": {
    "name": "ipython",
    "version": 3
   },
   "file_extension": ".py",
   "mimetype": "text/x-python",
   "name": "python",
   "nbconvert_exporter": "python",
   "pygments_lexer": "ipython3",
   "version": "3.6.9"
  },
  "varInspector": {
   "cols": {
    "lenName": 16,
    "lenType": 16,
    "lenVar": 40
   },
   "kernels_config": {
    "python": {
     "delete_cmd_postfix": "",
     "delete_cmd_prefix": "del ",
     "library": "var_list.py",
     "varRefreshCmd": "print(var_dic_list())"
    },
    "r": {
     "delete_cmd_postfix": ") ",
     "delete_cmd_prefix": "rm(",
     "library": "var_list.r",
     "varRefreshCmd": "cat(var_dic_list()) "
    }
   },
   "types_to_exclude": [
    "module",
    "function",
    "builtin_function_or_method",
    "instance",
    "_Feature"
   ],
   "window_display": false
  }
 },
 "nbformat": 4,
 "nbformat_minor": 4
}
